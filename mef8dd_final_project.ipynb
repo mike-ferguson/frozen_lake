{
  "nbformat": 4,
  "nbformat_minor": 0,
  "metadata": {
    "celltoolbar": "Slideshow",
    "kernelspec": {
      "display_name": "Python 3",
      "language": "python",
      "name": "python3"
    },
    "language_info": {
      "codemirror_mode": {
        "name": "ipython",
        "version": 3
      },
      "file_extension": ".py",
      "mimetype": "text/x-python",
      "name": "python",
      "nbconvert_exporter": "python",
      "pygments_lexer": "ipython3",
      "version": "3.7.6"
    },
    "rise": {
      "scroll": true
    },
    "colab": {
      "name": "mef8dd_final_project.ipynb",
      "provenance": [],
      "toc_visible": true,
      "include_colab_link": true
    }
  },
  "cells": [
    {
      "cell_type": "markdown",
      "metadata": {
        "id": "view-in-github",
        "colab_type": "text"
      },
      "source": [
        "<a href=\"https://colab.research.google.com/github/mike-ferguson/frozen_lake/blob/main/mef8dd_final_project.ipynb\" target=\"_parent\"><img src=\"https://colab.research.google.com/assets/colab-badge.svg\" alt=\"Open In Colab\"/></a>"
      ]
    },
    {
      "cell_type": "markdown",
      "metadata": {
        "id": "3mW-s2WmT_P9"
      },
      "source": [
        "# Final Project - Mike Ferguson (mef8dd)\n",
        "\n",
        "## Applying Successor Representation to the Slippery Lake Problem\n",
        "\n"
      ]
    },
    {
      "cell_type": "markdown",
      "metadata": {
        "id": "PhL0kqWPT_QI"
      },
      "source": [
        "## Introduction:\n",
        "\n",
        "In this project, I attempt to solve the slippery lake problem from the OpenAI Gym, using the sucessor representation. This notebook outlines my trials of experimenting with the policy and reward of the agent, and trying out different combinations of both. The notebook is lengthy, with each section being an entirely new experiment with explanations with as to why it was chosen. I chose 4 different policies/reward schemes that I thought would best represent an attempt to solve this porblem. Final results are sumamrized at the end. The Experiment is outlined below:\n",
        "\n",
        "\n",
        "1. **Problem**: With slippery = true, the agent has a much harder time navigating the frozen lake. \n",
        "2.   **Hypothesis**: That changing the policy will allow the agent to naivagte the lake successfully by learning. \n",
        "3. **Constants**: World Size (8x8), training iterations (1000), slippery= true, all parameters held constant at start.\n",
        "4. **Variables**: Changing the Policies for the agent, and reward mechanisms\n",
        "5. **Evaluation Criteria:** Average Reward - The higher the reward, the better the agent learned to reach the goal. \n",
        "\n",
        "\n",
        "## The Changes (Experiments):\n",
        "\n",
        "1. **Ground Truth**: Pick a random action. (Uniformly Distributed)\n",
        "2.   **The Lucky Dog (Policy) :** For 50% of the time, move according to random action. For 25% of time, move straight down. For the remainder 25%, move to the right. (Uniformly Distributed) \n",
        "3. **Mercy (Reward/M Learning)**: Do not learn when intended action was right, but slippery kicked in. That is, only learn when agent moved in direciton that was intended.\n",
        "4. **The Las Vegas (Reward):** Increase the reward dramatically when the intended action resulted in ending up in the correct spot. That is, get a boost in reward when slippery did not kick in.\n",
        "\n",
        "\n",
        "\n",
        "\n",
        "\n",
        "\n",
        "\n"
      ]
    },
    {
      "cell_type": "markdown",
      "metadata": {
        "id": "qWXTdFATXFOK"
      },
      "source": [
        "#Part 1: Admin Downloads and setting up packages\n"
      ]
    },
    {
      "cell_type": "code",
      "metadata": {
        "id": "uWsi9gnXT_QJ",
        "colab": {
          "base_uri": "https://localhost:8080/",
          "height": 131
        },
        "outputId": "3fbc70b2-e335-47ea-cc5c-0ee2b3488adf"
      },
      "source": [
        "# to install more libraries\n",
        "!pip install gym\n",
        "\n",
        "# load matplotlib inline mode\n",
        "%matplotlib inline\n",
        "\n",
        "# import some useful libraries\n",
        "import numpy as np                # numerical analysis linear algebra\n",
        "import matplotlib.pyplot as plt   # plotting\n",
        "\n",
        "from IPython.display import display, clear_output\n",
        "import time\n",
        "\n",
        "import gym\n",
        "from gym.envs.toy_text import frozen_lake"
      ],
      "execution_count": null,
      "outputs": [
        {
          "output_type": "stream",
          "text": [
            "Requirement already satisfied: gym in /usr/local/lib/python3.6/dist-packages (0.17.1)\n",
            "Requirement already satisfied: numpy>=1.10.4 in /usr/local/lib/python3.6/dist-packages (from gym) (1.18.3)\n",
            "Requirement already satisfied: scipy in /usr/local/lib/python3.6/dist-packages (from gym) (1.4.1)\n",
            "Requirement already satisfied: pyglet<=1.5.0,>=1.4.0 in /usr/local/lib/python3.6/dist-packages (from gym) (1.5.0)\n",
            "Requirement already satisfied: six in /usr/local/lib/python3.6/dist-packages (from gym) (1.12.0)\n",
            "Requirement already satisfied: cloudpickle<1.4.0,>=1.2.0 in /usr/local/lib/python3.6/dist-packages (from gym) (1.3.0)\n",
            "Requirement already satisfied: future in /usr/local/lib/python3.6/dist-packages (from pyglet<=1.5.0,>=1.4.0->gym) (0.16.0)\n"
          ],
          "name": "stdout"
        }
      ]
    },
    {
      "cell_type": "markdown",
      "metadata": {
        "id": "lkupISSEWsP_"
      },
      "source": [
        "# Part 2: Establishing ground truth with slippery = true\n",
        "## In this notebook seciton, the code is identical to the code provided in class, and mainly serves to see what the default policy does on a slippery lake. \n"
      ]
    },
    {
      "cell_type": "code",
      "metadata": {
        "id": "sEjMNfrNT_QR"
      },
      "source": [
        "# ******************************************************************************************************\n",
        "# Step 1: Set Slippery To True: Now the agent will not always end end where inteded\n",
        "# The object of this porject is to see if experimenting with the Policy \n",
        "# can lead to an agent that is able to successfully navigate the lake, \n",
        "# even with the slippery setting on.\n",
        "# ******************************************************************************************************\n",
        "\n",
        "\n",
        "\n",
        "# define the environment\n",
        "size = 8\n",
        "p_frozen = 0.8\n",
        "slippery = True \n",
        "\n",
        "# generate a random map\n",
        "desc = frozen_lake.generate_random_map(size=size, p=p_frozen)\n",
        "env = frozen_lake.FrozenLakeEnv(desc=desc,\n",
        "                                is_slippery=slippery)\n"
      ],
      "execution_count": null,
      "outputs": []
    },
    {
      "cell_type": "code",
      "metadata": {
        "id": "EvfaUVmWT_QY"
      },
      "source": [
        "# ******************************************************************************************************\n",
        "# Step 2: Code to define parameters and policy - (defualt policy)\n",
        "#\n",
        "#   POLICY: GROUND TRUTH\n",
        "#\n",
        "#   REASON FOR POLICY (HYPOTHESIS):\n",
        "#   None in this case. Chosen by Professor to act as ground truth. \n",
        "#\n",
        "#   REASON FOR POLICY NAME: Nothing special, just ground truth. \n",
        "#\n",
        "# ******************************************************************************************************\n",
        "\n",
        "# params\n",
        "gamma = .99\n",
        "alpha = .5\n",
        "rho = .25\n",
        "tau = 20.0\n",
        "p_rand = 0.0\n",
        "hole_penalty = -1.0\n",
        "off_board_penalty = -0.0\n",
        "\n",
        "# set up our agent\n",
        "n_actions = env.action_space.n\n",
        "n_states = env.observation_space.n\n",
        "states = np.eye(n_states)\n",
        "rewards = np.zeros(n_states)\n",
        "M = np.zeros((n_actions, n_states, n_states))\n",
        "scores = []\n",
        "\n",
        "# define a policy\n",
        "def pick_action(f0, M, rewards, tau, p_rand=0.0):\n",
        "    # apply policy to pick action\n",
        "    if p_rand > 0.0 and np.random.rand() < p_rand:\n",
        "        # pick a random action\n",
        "        action = env.action_space.sample()\n",
        "    else:\n",
        "        Q = np.dot(np.dot(M, f0), rewards)\n",
        "        pQ = np.exp(Q*tau)/np.exp(Q*tau).sum()\n",
        "        action = np.argmax(np.random.rand() < np.cumsum(pQ))\n",
        "    return action\n",
        "\n"
      ],
      "execution_count": null,
      "outputs": []
    },
    {
      "cell_type": "code",
      "metadata": {
        "id": "PzLwRoJJT_Qa",
        "colab": {
          "base_uri": "https://localhost:8080/",
          "height": 880
        },
        "outputId": "9d1c966f-4de6-492e-b3b7-542072045af9"
      },
      "source": [
        "# ******************************************************************************************************\n",
        "# Step 3: Actually Running the code. This section trains the model and \n",
        "# evaulates it using various graphs.\n",
        "# ******************************************************************************************************\n",
        "\n",
        "\n",
        "for r in range(1000):\n",
        "    # reset for new attempt at recovering the frisbee\n",
        "    observation = env.reset()\n",
        "    last_obs = observation\n",
        "    f0 = states[observation]\n",
        "    t0 = states[observation]\n",
        "    \n",
        "    for i in range(1000):\n",
        "        # pick an action\n",
        "        action = pick_action(f0, M, rewards, tau, p_rand=p_rand)\n",
        "        \n",
        "        # observe new state\n",
        "        observation, reward, done, info = env.step(action)\n",
        "        \n",
        "        # turn the new state into a vector representation\n",
        "        f1 = states[observation]\n",
        "\n",
        "        # learn via successor representation\n",
        "        # prediction from previous state\n",
        "        p0 = np.dot(M[action], f0)\n",
        "        \n",
        "        # observed outcome, plus discounted future prediction\n",
        "        # when following that policy\n",
        "        f1_action = pick_action(f1, M, rewards, tau, p_rand=p_rand)\n",
        "        o1 = (f1 + gamma*(np.dot(M[f1_action], f1)))\n",
        "        \n",
        "        # update the association for that action\n",
        "        M[action] += alpha * np.outer((o1 - p0), t0)\n",
        "\n",
        "        # update context (eligibility trace)\n",
        "        t1 = rho*t0 + (1-rho)*f1\n",
        "\n",
        "        # process the reward if any\n",
        "        if done and reward==0:\n",
        "            # get negative rewards for falling in a hole\n",
        "            reward = hole_penalty\n",
        "            \n",
        "        if last_obs == observation:\n",
        "            # action gave rise to no change in movement\n",
        "            reward = off_board_penalty\n",
        "\n",
        "        # update our representation of rewards/punishments at the observed state\n",
        "        rewards[observation] += alpha*(reward - rewards[observation])\n",
        "\n",
        "        # see if we're done\n",
        "        if done:\n",
        "            #print(\"Episode finished after {} timesteps with reward {}\".format(i+1, reward))\n",
        "            # save out our final reward/punishment\n",
        "            scores.append(reward)\n",
        "            break\n",
        "\n",
        "        # prepare for next iteration\n",
        "        f0 = f1\n",
        "        t0 = t1\n",
        "        last_obs = observation\n",
        "\n",
        "# render the final state\n",
        "env.render()\n",
        "\n",
        "# plot a moving average of scores\n",
        "N=50\n",
        "plt.plot(np.convolve(scores, np.ones((N,))/N, mode='valid'))\n",
        "\n",
        "\n",
        "\n",
        "# see predicted outcomes for different actions at a particular state\n",
        "state = 0\n",
        "fig,ax = plt.subplots(1, 4, figsize=(12,5), sharex=True, sharey=True)\n",
        "acts = ['LEFT', 'DOWN', 'RIGHT', 'UP']\n",
        "\n",
        "# get the min and max values for plot normalization\n",
        "pmin = 0.0\n",
        "pmax = 0.0\n",
        "for i in range(n_actions):\n",
        "    pred = np.dot(M, states[state])[i]\n",
        "    pmin = min(pred.min(), pmin)\n",
        "    pmax = max(pred.max(), pmax)\n",
        "\n",
        "# do the plot\n",
        "for i in range(n_actions):\n",
        "    pred = np.dot(M, states[state])[i]\n",
        "    ax[i].matshow((pred.reshape((size, size))), vmin=pmin, vmax=pmax, cmap='hot')\n",
        "    ax[i].set_xlabel(acts[i])\n",
        "\n",
        "# print out model-based predictions for state-actions\n",
        "Q = np.dot(np.dot(M, states[state]), rewards)\n",
        "pQ = np.exp(Q*tau)/np.exp(Q*tau).sum()\n",
        "print(*zip(acts, pQ))\n",
        "\n",
        "# see what state rewards it's learned\n",
        "plt.matshow(rewards.reshape((size, size)), cmap='bwr_r', vmin=-1, vmax=1.0)\n",
        "plt.colorbar()\n",
        "\n",
        "average_reward = np.average(scores)\n",
        "print(\"Average Reward: \", average_reward)\n",
        "\n"
      ],
      "execution_count": null,
      "outputs": [
        {
          "output_type": "stream",
          "text": [
            "  (Left)\n",
            "SFFFFFHF\n",
            "FFHFFHFF\n",
            "HFFFFHFF\n",
            "FHFFFFFF\n",
            "FFHFFFHF\n",
            "FFHFFFF\u001b[41mH\u001b[0m\n",
            "FFFFFFFF\n",
            "FFHFFFHG\n",
            "('LEFT', 9.467600844281062e-05) ('DOWN', 1.3967924256178067e-07) ('RIGHT', 5.4460012078648866e-06) ('UP', 0.9998997383111068)\n",
            "Average Reward:  -0.7125668449197861\n"
          ],
          "name": "stdout"
        },
        {
          "output_type": "display_data",
          "data": {
            "image/png": "[encoded data removed]",
            "text/plain": [
              "<Figure size 432x288 with 1 Axes>"
            ]
          },
          "metadata": {
            "tags": [],
            "needs_background": "light"
          }
        },
        {
          "output_type": "display_data",
          "data": {
            "image/png": "[encoded data removed]",
            "text/plain": [
              "<Figure size 864x360 with 4 Axes>"
            ]
          },
          "metadata": {
            "tags": [],
            "needs_background": "light"
          }
        },
        {
          "output_type": "display_data",
          "data": {
            "image/png": "[encoded data removed]",
            "text/plain": [
              "<Figure size 288x288 with 2 Axes>"
            ]
          },
          "metadata": {
            "tags": [],
            "needs_background": "light"
          }
        }
      ]
    },
    {
      "cell_type": "markdown",
      "metadata": {
        "id": "2z_ZbgCgYEWy"
      },
      "source": [
        "## Reflection on Experiment 1: Ground Truth\n",
        "\n",
        "In this case, the performance of the model was not the greatest:\n",
        "\n",
        "* World Size: **8x8**\n",
        "* Training iterations: **1000**\n",
        "* Ability to Navigate Sucessfully: **No**\n",
        "* Average Reward: **-0.7125**\n",
        "* Was able to Learn where holes are: **Yes**\n",
        "* Ability to learn where goal is: **Yes**\n",
        "\n",
        "Final comments: \n",
        "In this situation, it appears that the model is learning where the holes and the goals are, based on the map of reward  with respect to location. However, it still cannot seem to navigate sucessfully to the goal. The biggest reason is obviously the slippery setting: Even thought the agent knows that the holes are where they are and the goal is correct, it still is not going to where it wants. The average reward was also very low, as -0.7125, but increasing as the number of iterations increased. \n",
        "\n"
      ]
    },
    {
      "cell_type": "markdown",
      "metadata": {
        "id": "-yHmpY2ve2S1"
      },
      "source": [
        "#Part 3: Experiment Number 2: The Lucky Dog\n",
        "\n",
        "In this notebook seciton, the code is identical to the above, with the only thing changing as the policy, explained below."
      ]
    },
    {
      "cell_type": "code",
      "metadata": {
        "id": "aCM1Mb2dfPA4"
      },
      "source": [
        "# ******************************************************************************************************\n",
        "# Step 1: Set Slippery To True: Now the agent will not always end end where inteded\n",
        "# The object of this porject is to see if experimenting with the Policy \n",
        "# can lead to an agent that is able to successfully navigate the lake, \n",
        "# even with the slippery setting on.\n",
        "# ******************************************************************************************************\n",
        "\n",
        "\n",
        "\n",
        "# define the environment\n",
        "size = 8\n",
        "p_frozen = 0.8\n",
        "slippery = True \n",
        "\n",
        "# generate a random map\n",
        "desc = frozen_lake.generate_random_map(size=size, p=p_frozen)\n",
        "env = frozen_lake.FrozenLakeEnv(desc=desc,\n",
        "                                is_slippery=slippery)\n"
      ],
      "execution_count": null,
      "outputs": []
    },
    {
      "cell_type": "code",
      "metadata": {
        "id": "LtDjKWVKfPTo"
      },
      "source": [
        "# ******************************************************************************************************\n",
        "# Step 2: Code to define parameters and policy - (The Lucky Dog Policy)\n",
        "#\n",
        "#   POLICY: The Lucky Dog \n",
        "#\n",
        "#   REASON FOR POLICY (HYPOTHESIS):\n",
        "#   Instead of trying to pick a random action everytime, just do so half of the time. The other half of the time, \n",
        "#   either move down or to the right. The reason behind the right/down is because the world always has the \n",
        "#   goal in the bottom right corner, so progress can always be made. This would also theorteiclaly cut down \n",
        "#   on the number of moves needed, as the number of up/left moves are decresed. This policy also reflects the \n",
        "#   pretty human notion of getting outside help on the information of your environment, and exploiting it. \n",
        "#\n",
        "#   REASON FOR POLICY NAME: \n",
        "#   In order for the agent to learn, it has to get lucky, similiar to \n",
        "#   how a dog gets lucky when training by stumbling across the desired action, then being reinforced. \n",
        "#   Everyone needs a little luck, eh?\n",
        "#\n",
        "# ******************************************************************************************************\n",
        "\n",
        "# params\n",
        "gamma = .99\n",
        "alpha = .5\n",
        "rho = .25\n",
        "tau = 20.0\n",
        "p_rand = 0.0\n",
        "hole_penalty = -1.0\n",
        "off_board_penalty = -0.0\n",
        "\n",
        "# set up our agent\n",
        "n_actions = env.action_space.n\n",
        "n_states = env.observation_space.n\n",
        "states = np.eye(n_states)\n",
        "rewards = np.zeros(n_states)\n",
        "M = np.zeros((n_actions, n_states, n_states))\n",
        "scores = []\n",
        "\n",
        "# define a policy\n",
        "def pick_action(f0, M, rewards, tau, p_rand=0.0):\n",
        "    # apply policy to pick action\n",
        "    if p_rand > 0.0 and np.random.rand() < p_rand:\n",
        "        # pick a random action\n",
        "        action = env.action_space.sample()\n",
        "    else:\n",
        "        rand_num = np.random.rand()       \n",
        "        if 0 <= rand_num <= 0.50:\n",
        "          Q = np.dot(np.dot(M, f0), rewards)\n",
        "          pQ = np.exp(Q*tau)/np.exp(Q*tau).sum()\n",
        "          action = np.argmax(np.random.rand() < np.cumsum(pQ))\n",
        "        elif 0.50 < rand_num <= 0.75:\n",
        "          action = 2 # move right \n",
        "        else: \n",
        "          action = 1 # move down\n",
        "    return action\n",
        "\n"
      ],
      "execution_count": null,
      "outputs": []
    },
    {
      "cell_type": "code",
      "metadata": {
        "id": "p3wiwmOvhAaz",
        "colab": {
          "base_uri": "https://localhost:8080/",
          "height": 880
        },
        "outputId": "bbb5afaf-aef5-4c63-f750-dee912f4f19f"
      },
      "source": [
        "# ******************************************************************************************************\n",
        "# Step 3: Actually Running the code. This section trains the model and \n",
        "# evaulates it using various graphs.\n",
        "# ******************************************************************************************************\n",
        "\n",
        "\n",
        "for r in range(1000):\n",
        "    # reset for new attempt at recovering the frisbee\n",
        "    observation = env.reset()\n",
        "    last_obs = observation\n",
        "    f0 = states[observation]\n",
        "    t0 = states[observation]\n",
        "    \n",
        "    for i in range(1000):\n",
        "        # pick an action\n",
        "        action = pick_action(f0, M, rewards, tau, p_rand=p_rand)\n",
        "        \n",
        "        # observe new state\n",
        "        observation, reward, done, info = env.step(action)\n",
        "        \n",
        "        # turn the new state into a vector representation\n",
        "        f1 = states[observation]\n",
        "\n",
        "        # learn via successor representation\n",
        "        # prediction from previous state\n",
        "        p0 = np.dot(M[action], f0)\n",
        "        \n",
        "        # observed outcome, plus discounted future prediction\n",
        "        # when following that policy\n",
        "        f1_action = pick_action(f1, M, rewards, tau, p_rand=p_rand)\n",
        "        o1 = (f1 + gamma*(np.dot(M[f1_action], f1)))\n",
        "        \n",
        "        # update the association for that action\n",
        "        M[action] += alpha * np.outer((o1 - p0), t0)\n",
        "\n",
        "        # update context (eligibility trace)\n",
        "        t1 = rho*t0 + (1-rho)*f1\n",
        "\n",
        "        # process the reward if any\n",
        "        if done and reward==0:\n",
        "            # get negative rewards for falling in a hole\n",
        "            reward = hole_penalty\n",
        "            \n",
        "        if last_obs == observation:\n",
        "            # action gave rise to no change in movement\n",
        "            reward = off_board_penalty\n",
        "\n",
        "        # update our representation of rewards/punishments at the observed state\n",
        "        rewards[observation] += alpha*(reward - rewards[observation])\n",
        "\n",
        "        # see if we're done\n",
        "        if done:\n",
        "            #print(\"Episode finished after {} timesteps with reward {}\".format(i+1, reward))\n",
        "            # save out our final reward/punishment\n",
        "            scores.append(reward)\n",
        "            break\n",
        "\n",
        "        # prepare for next iteration\n",
        "        f0 = f1\n",
        "        t0 = t1\n",
        "        last_obs = observation\n",
        "\n",
        "# render the final state\n",
        "env.render()\n",
        "\n",
        "# plot a moving average of scores\n",
        "N=50\n",
        "plt.plot(np.convolve(scores, np.ones((N,))/N, mode='valid'))\n",
        "\n",
        "\n",
        "\n",
        "# see predicted outcomes for different actions at a particular state\n",
        "state = 0\n",
        "fig,ax = plt.subplots(1, 4, figsize=(12,5), sharex=True, sharey=True)\n",
        "acts = ['LEFT', 'DOWN', 'RIGHT', 'UP']\n",
        "\n",
        "# get the min and max values for plot normalization\n",
        "pmin = 0.0\n",
        "pmax = 0.0\n",
        "for i in range(n_actions):\n",
        "    pred = np.dot(M, states[state])[i]\n",
        "    pmin = min(pred.min(), pmin)\n",
        "    pmax = max(pred.max(), pmax)\n",
        "\n",
        "# do the plot\n",
        "for i in range(n_actions):\n",
        "    pred = np.dot(M, states[state])[i]\n",
        "    ax[i].matshow((pred.reshape((size, size))), vmin=pmin, vmax=pmax, cmap='hot')\n",
        "    ax[i].set_xlabel(acts[i])\n",
        "\n",
        "# print out model-based predictions for state-actions\n",
        "Q = np.dot(np.dot(M, states[state]), rewards)\n",
        "pQ = np.exp(Q*tau)/np.exp(Q*tau).sum()\n",
        "print(*zip(acts, pQ))\n",
        "\n",
        "# see what state rewards it's learned\n",
        "plt.matshow(rewards.reshape((size, size)), cmap='bwr_r', vmin=-1, vmax=1.0)\n",
        "plt.colorbar()\n",
        "\n",
        "average_reward = np.average(scores)\n",
        "print(\"Average Reward: \", average_reward)\n",
        "\n"
      ],
      "execution_count": null,
      "outputs": [
        {
          "output_type": "stream",
          "text": [
            "  (Right)\n",
            "S\u001b[41mH\u001b[0mHHFFFH\n",
            "FFFHFFFF\n",
            "HFFFFFFF\n",
            "FFFFFFFF\n",
            "FHFFFFFF\n",
            "HFFHFFFF\n",
            "FFFFHFFH\n",
            "HFFFFFFG\n",
            "('LEFT', 0.37455590287699847) ('DOWN', 0.40791768236873893) ('RIGHT', 0.21693976263627038) ('UP', 0.0005866521179922102)\n",
            "Average Reward:  -0.99\n"
          ],
          "name": "stdout"
        },
        {
          "output_type": "display_data",
          "data": {
            "image/png": "[encoded data removed]",
            "text/plain": [
              "<Figure size 432x288 with 1 Axes>"
            ]
          },
          "metadata": {
            "tags": [],
            "needs_background": "light"
          }
        },
        {
          "output_type": "display_data",
          "data": {
            "image/png": "[encoded data removed]",
            "text/plain": [
              "<Figure size 864x360 with 4 Axes>"
            ]
          },
          "metadata": {
            "tags": [],
            "needs_background": "light"
          }
        },
        {
          "output_type": "display_data",
          "data": {
            "image/png": "[encoded data removed]",
            "text/plain": [
              "<Figure size 288x288 with 2 Axes>"
            ]
          },
          "metadata": {
            "tags": [],
            "needs_background": "light"
          }
        }
      ]
    },
    {
      "cell_type": "markdown",
      "metadata": {
        "id": "U_jj7uIniHf-"
      },
      "source": [
        "## Reflection on Experiment 2: The Lucky Dog\n",
        "\n",
        "In this case, the dog was not so lucky:\n",
        "\n",
        "* World Size: **8x8**\n",
        "* Training iterations: **1000**\n",
        "* Ability to Navigate Sucessfully: **No**\n",
        "* Average Reward: **-0.99**\n",
        "* Was able to Learn where holes are: **Yes, but less so then Ground Truth (GT)**\n",
        "* Ability to learn where goal is: **Yes**\n",
        "\n",
        "Final comments: \n",
        "With this policy, the agent did signifacntly worse then ground truth, with an average reward of -0.99 vs -0.71, showing that the agent spent way more time in holes then it should have. A few more things to note from this trial: The graph of the moving average of scores hovers around the -0.9 to -1.0 range, indicating that most of the time was spent in holes getting punished. There are multiple spikes in the graph, which can be atrributed to getting lucky with the downwasrds and righwards movements. \n",
        "\n",
        "## Overall Verdict: Significantly Worse then Ground truth (28.3% worse)\n"
      ]
    },
    {
      "cell_type": "markdown",
      "metadata": {
        "id": "4bSwto6hjirg"
      },
      "source": [
        "#Part 4: Experiment Number 3: Mercy\n",
        "\n",
        "In this notebook seciton, the code is identical to the above, with the only thing changing being the reward mechanism, explained below."
      ]
    },
    {
      "cell_type": "code",
      "metadata": {
        "id": "Ifv4EmH_jtnR"
      },
      "source": [
        "# ******************************************************************************************************\n",
        "# Step 1: Set Slippery To True: Now the agent will not always end end where inteded\n",
        "# The object of this porject is to see if experimenting with the Policy \n",
        "# can lead to an agent that is able to successfully navigate the lake, \n",
        "# even with the slippery setting on.\n",
        "# ******************************************************************************************************\n",
        "\n",
        "\n",
        "\n",
        "# define the environment\n",
        "size = 8\n",
        "p_frozen = 0.8\n",
        "slippery = True \n",
        "\n",
        "# generate a random map\n",
        "desc = frozen_lake.generate_random_map(size=size, p=p_frozen)\n",
        "env = frozen_lake.FrozenLakeEnv(desc=desc,\n",
        "                                is_slippery=slippery)\n"
      ],
      "execution_count": null,
      "outputs": []
    },
    {
      "cell_type": "code",
      "metadata": {
        "id": "fu8XPNspjxyd"
      },
      "source": [
        "# ******************************************************************************************************\n",
        "# Step 2: Code to define parameters and policy \n",
        "#\n",
        "# Policy is same as Ground Truth\n",
        "#\n",
        "# ******************************************************************************************************\n",
        "\n",
        "# params\n",
        "gamma = .99\n",
        "alpha = .5\n",
        "rho = .25\n",
        "tau = 20.0\n",
        "p_rand = 0.0\n",
        "hole_penalty = -1.0\n",
        "off_board_penalty = -0.0\n",
        "\n",
        "# set up our agent\n",
        "n_actions = env.action_space.n\n",
        "n_states = env.observation_space.n\n",
        "states = np.eye(n_states)\n",
        "rewards = np.zeros(n_states)\n",
        "M = np.zeros((n_actions, n_states, n_states))\n",
        "scores = []\n",
        "\n",
        "# define a policy\n",
        "def pick_action(f0, M, rewards, tau, p_rand=0.0):\n",
        "    # apply policy to pick action\n",
        "    if p_rand > 0.0 and np.random.rand() < p_rand:\n",
        "        # pick a random action\n",
        "        action = env.action_space.sample()\n",
        "    else:\n",
        "        Q = np.dot(np.dot(M, f0), rewards)\n",
        "        pQ = np.exp(Q*tau)/np.exp(Q*tau).sum()\n",
        "        action = np.argmax(np.random.rand() < np.cumsum(pQ))\n",
        "    return action\n"
      ],
      "execution_count": null,
      "outputs": []
    },
    {
      "cell_type": "code",
      "metadata": {
        "id": "7UNDaZt_lLhf",
        "colab": {
          "base_uri": "https://localhost:8080/",
          "height": 880
        },
        "outputId": "f4c26c2c-298a-4ee4-921f-e981aa2dd317"
      },
      "source": [
        "# ******************************************************************************************************\n",
        "# Step 3: Actually Running the code. This section trains the model and \n",
        "# evaulates it using various graphs.\n",
        "#\n",
        "#   Reward Scheme: Mercy\n",
        "#\n",
        "#   REASON FOR REWARD (HYPOTHESIS):\n",
        "#   The biggest issue I think that is happening here that is preventing the correct\n",
        "#   navigation of the agent is the fact that it is being still learning when it makes a correct \n",
        "#   choice but ended up in the wrong spot- that is, even when it chose an aciton that was correct, \n",
        "#   if slipper happend and it ended up in the wrong spot, then it was learning to be punished for that.\n",
        "#   So, if the model only learned when slippery did not occur, then it would be able to navigate \n",
        "#   correctly. Only update M when slippery did not happen. Theoreticlaly this should work, becuase now it is \n",
        "#   effectivly the problem with slippery = False, although it would take longer to train. \n",
        "#\n",
        "#   REASON FOR REWARD NAME: \n",
        "#   You should not punish the agent for doing what it thought wa correct, only to have the enviornment\n",
        "#   make it fail! It is not it's fault, so have Mercy!\n",
        "#\n",
        "# ******************************************************************************************************\n",
        "#acts = ['LEFT', 'DOWN', 'RIGHT', 'UP']\n",
        "\n",
        "for r in range(1000):\n",
        "    # reset for new attempt at recovering the frisbee\n",
        "    observation = env.reset()\n",
        "    last_obs = observation\n",
        "    f0 = states[observation]\n",
        "    t0 = states[observation]\n",
        "    \n",
        "    for i in range(1000):\n",
        "        # pick an action\n",
        "        action = pick_action(f0, M, rewards, tau, p_rand=p_rand)\n",
        "        # print(\"Action Chosen: \", f0)\n",
        "        \n",
        "        # get where you were in the world:\n",
        "        maximum = np.max(f0)\n",
        "        old_position = np.where(f0 == maximum)[0][0]\n",
        "\n",
        "        # observe new state\n",
        "        observation, reward, done, info = env.step(action)\n",
        "        new_position = observation\n",
        "\n",
        "\n",
        "        # calculates the actual action that was taken based on grid math:\n",
        "        if new_position - old_position == 8: # means you actually moved down 1\n",
        "          actual_action = 1\n",
        "        elif new_position - old_position == -8: # means you actually moved up 1\n",
        "          actual_action = 3\n",
        "        elif new_position - old_position == 1: # means you actually moved right 1\n",
        "          actual_action = 2\n",
        "        elif new_position - old_position == -1: # means you actually moved left 1\n",
        "          actual_action = 0\n",
        "        elif new_position - old_position == 0: # means you went off the grid, either left or up ***** \n",
        "          rand_num = np.random.rand()\n",
        "          if rand_num <= 0.5:\n",
        "            actual_action = 0\n",
        "          else: \n",
        "            actual_action = 3\n",
        "        \n",
        "\n",
        "        # turn the new state into a vector representation\n",
        "        f1 = states[observation]\n",
        "        \n",
        "\n",
        "        # learn via successor representation\n",
        "        # prediction from previous state\n",
        "        p0 = np.dot(M[action], f0)\n",
        "        \n",
        "        # observed outcome, plus discounted future prediction\n",
        "        # when following that policy\n",
        "        f1_action = pick_action(f1, M, rewards, tau, p_rand=p_rand)\n",
        "        \n",
        "\n",
        "        o1 = (f1 + gamma*(np.dot(M[f1_action], f1)))\n",
        "        \n",
        "\n",
        "        #************  THE CHANGE FROM GROUND TRUTH ************\n",
        "        # update the association for that action \n",
        "        intended_action = action\n",
        "        actual_action = f1_action\n",
        "\n",
        "        if intended_action == actual_action:\n",
        "          M[action] += alpha * np.outer((o1 - p0), t0)\n",
        "\n",
        "\n",
        "        # update context (eligibility trace)\n",
        "        t1 = rho*t0 + (1-rho)*f1\n",
        "\n",
        "        # process the reward if any\n",
        "        if done and reward==0:\n",
        "            # get negative rewards for falling in a hole\n",
        "            reward = hole_penalty\n",
        "            \n",
        "        if last_obs == observation:\n",
        "            # action gave rise to no change in movement\n",
        "            reward = off_board_penalty\n",
        "\n",
        "        # update our representation of rewards/punishments at the observed state\n",
        "        rewards[observation] += alpha*(reward - rewards[observation])\n",
        "\n",
        "        # see if we're done\n",
        "        if done:\n",
        "            #print(\"Episode finished after {} timesteps with reward {}\".format(i+1, reward))\n",
        "            # save out our final reward/punishment\n",
        "            scores.append(reward)\n",
        "            break\n",
        "\n",
        "        # prepare for next iteration\n",
        "        f0 = f1\n",
        "        t0 = t1\n",
        "        last_obs = observation\n",
        "\n",
        "# render the final state\n",
        "env.render()\n",
        "\n",
        "# plot a moving average of scores\n",
        "N=50\n",
        "plt.plot(np.convolve(scores, np.ones((N,))/N, mode='valid'))\n",
        "\n",
        "\n",
        "\n",
        "# see predicted outcomes for different actions at a particular state\n",
        "state = 0\n",
        "fig,ax = plt.subplots(1, 4, figsize=(12,5), sharex=True, sharey=True)\n",
        "acts = ['LEFT', 'DOWN', 'RIGHT', 'UP']\n",
        "\n",
        "# get the min and max values for plot normalization\n",
        "pmin = 0.0\n",
        "pmax = 0.0\n",
        "for i in range(n_actions):\n",
        "    pred = np.dot(M, states[state])[i]\n",
        "    pmin = min(pred.min(), pmin)\n",
        "    pmax = max(pred.max(), pmax)\n",
        "\n",
        "# do the plot\n",
        "for i in range(n_actions):\n",
        "    pred = np.dot(M, states[state])[i]\n",
        "    ax[i].matshow((pred.reshape((size, size))), vmin=pmin, vmax=pmax, cmap='hot')\n",
        "    ax[i].set_xlabel(acts[i])\n",
        "\n",
        "# print out model-based predictions for state-actions\n",
        "Q = np.dot(np.dot(M, states[state]), rewards)\n",
        "pQ = np.exp(Q*tau)/np.exp(Q*tau).sum()\n",
        "print(*zip(acts, pQ))\n",
        "\n",
        "# see what state rewards it's learned\n",
        "plt.matshow(rewards.reshape((size, size)), cmap='bwr_r', vmin=-1, vmax=1.0)\n",
        "plt.colorbar()\n",
        "\n",
        "average_reward = np.average(scores)\n",
        "print(\"Average Reward: \", average_reward)\n",
        "\n"
      ],
      "execution_count": null,
      "outputs": [
        {
          "output_type": "stream",
          "text": [
            "  (Right)\n",
            "SFFHFHHF\n",
            "FFFFHFHF\n",
            "FFFFFFFH\n",
            "HFFFFFFF\n",
            "FFFFFFFF\n",
            "FFFFHFFF\n",
            "FFFFHHFF\n",
            "FFFHFFF\u001b[41mG\u001b[0m\n",
            "('LEFT', 0.45630366380621157) ('DOWN', 0.0633491479258899) ('RIGHT', 0.021808609981959347) ('UP', 0.4585385782859392)\n",
            "Average Reward:  -0.33645018701122065\n"
          ],
          "name": "stdout"
        },
        {
          "output_type": "display_data",
          "data": {
            "image/png": "[encoded data removed]",
            "text/plain": [
              "<Figure size 432x288 with 1 Axes>"
            ]
          },
          "metadata": {
            "tags": [],
            "needs_background": "light"
          }
        },
        {
          "output_type": "display_data",
          "data": {
            "image/png": "[encoded data removed]",
            "text/plain": [
              "<Figure size 864x360 with 4 Axes>"
            ]
          },
          "metadata": {
            "tags": [],
            "needs_background": "light"
          }
        },
        {
          "output_type": "display_data",
          "data": {
            "image/png": "[encoded data removed]",
            "text/plain": [
              "<Figure size 288x288 with 2 Axes>"
            ]
          },
          "metadata": {
            "tags": [],
            "needs_background": "light"
          }
        }
      ]
    },
    {
      "cell_type": "markdown",
      "metadata": {
        "id": "adXdR8mqwjrS"
      },
      "source": [
        "## Reflection on Experiment 3: Mercy\n",
        "\n",
        "In this case, having mercy proved beneficial:\n",
        "\n",
        "* World Size: **8x8**\n",
        "* Training iterations: **1000**\n",
        "* Ability to Navigate Sucessfully: **No**\n",
        "* Average Reward: **-0.34**\n",
        "* Was able to Learn where holes are: **Yes**\n",
        "* Ability to learn where goal is: **Yes**\n",
        "\n",
        "Final comments: \n",
        "With this change to the reward system, only updating M when the actual action was the intended action, the model performed significantly better then ground truth (-0.34 vs -0.71 average reward). A few things to note: The way it was implemented worked by gathering the action taken and intended action, and reverse engineering the action that actully occured by grid math. However, the model was not perfect, as the grid math had a hard time accounting for the cases where the agent moved off world. Also, The model was able to perfeclty identify the goal and the holes, and the Successsor Representation map for the RIGHT picture shows a nascent path beign formed to the goal. Running the simulaitn over 5,000 instead of 1,000, as shown, did not result in a subsatntial improvement, either. \n",
        "\n",
        "## Overall Verdict: Significantly Better then Ground truth (60.8% better)\n"
      ]
    },
    {
      "cell_type": "markdown",
      "metadata": {
        "id": "QRLOtc29zFZ2"
      },
      "source": [
        "#Part 5: Experiment Number 4: The Las Vegas\n",
        "\n",
        "In this notebook seciton, the code is identical to the above, with the only thing changing being the reward mechanism, explained below."
      ]
    },
    {
      "cell_type": "code",
      "metadata": {
        "id": "3Rs5WyQQzPFc"
      },
      "source": [
        "# ******************************************************************************************************\n",
        "# Step 1: Set Slippery To True: Now the agent will not always end end where inteded\n",
        "# The object of this porject is to see if experimenting with the Policy \n",
        "# can lead to an agent that is able to successfully navigate the lake, \n",
        "# even with the slippery setting on.\n",
        "# ******************************************************************************************************\n",
        "\n",
        "\n",
        "\n",
        "# define the environment\n",
        "size = 8\n",
        "p_frozen = 0.8\n",
        "slippery = True \n",
        "\n",
        "# generate a random map\n",
        "desc = frozen_lake.generate_random_map(size=size, p=p_frozen)\n",
        "env = frozen_lake.FrozenLakeEnv(desc=desc,\n",
        "                                is_slippery=slippery)"
      ],
      "execution_count": null,
      "outputs": []
    },
    {
      "cell_type": "code",
      "metadata": {
        "id": "TH2TE4aYzQku"
      },
      "source": [
        "# ******************************************************************************************************\n",
        "# Step 2: Code to define parameters and policy \n",
        "#\n",
        "# Policy is same as Ground Truth\n",
        "#\n",
        "# ******************************************************************************************************\n",
        "\n",
        "# params\n",
        "gamma = .99\n",
        "alpha = .5\n",
        "rho = .25\n",
        "tau = 20.0\n",
        "p_rand = 0.0\n",
        "hole_penalty = -1.0\n",
        "off_board_penalty = -0.0\n",
        "\n",
        "# set up our agent\n",
        "n_actions = env.action_space.n\n",
        "n_states = env.observation_space.n\n",
        "states = np.eye(n_states)\n",
        "rewards = np.zeros(n_states)\n",
        "M = np.zeros((n_actions, n_states, n_states))\n",
        "scores = []\n",
        "\n",
        "# define a policy\n",
        "def pick_action(f0, M, rewards, tau, p_rand=0.0):\n",
        "    # apply policy to pick action\n",
        "    if p_rand > 0.0 and np.random.rand() < p_rand:\n",
        "        # pick a random action\n",
        "        action = env.action_space.sample()\n",
        "    else:\n",
        "        Q = np.dot(np.dot(M, f0), rewards)\n",
        "        pQ = np.exp(Q*tau)/np.exp(Q*tau).sum()\n",
        "        action = np.argmax(np.random.rand() < np.cumsum(pQ))\n",
        "    return action"
      ],
      "execution_count": null,
      "outputs": []
    },
    {
      "cell_type": "code",
      "metadata": {
        "id": "kzDQyKeLzQtS",
        "colab": {
          "base_uri": "https://localhost:8080/",
          "height": 880
        },
        "outputId": "fe570f6b-65d6-4c73-9de3-5a42fdd42fdd"
      },
      "source": [
        "# ******************************************************************************************************\n",
        "# Step 3: Actually Running the code. This section trains the model and \n",
        "# evaulates it using various graphs.\n",
        "#\n",
        "#   Reward Scheme: The Las Vegas\n",
        "#\n",
        "#   REASON FOR REWARD (HYPOTHESIS):\n",
        "#   The thought behind this scheme is the we should increase the reward if the agent took its action and ended up where \n",
        "#   it wanted to- that is, increase the reward if slippery did not happen. The rationale was that these iterations would contribute \n",
        "#   stronger to the reward, increasing the avergae reward and proving better performance. This used the same method of \n",
        "#   getting the actions as the above section. This one is more neurotranstimmer based(if that is a thing?) because it \n",
        "#   works off of the principle that you get higher rewards when your intended action matches what actually happened.\n",
        "\n",
        "#\n",
        "#   REASON FOR REWARD NAME: \n",
        "#   People seek the things that give them a increase in dopamine, even if the odds of them getting it is random. This is \n",
        "#   like gambling, so thats why its tthe Las Vegas!\n",
        "# ******************************************************************************************************\n",
        "\n",
        "for r in range(1000):\n",
        "    # reset for new attempt at recovering the frisbee\n",
        "    observation = env.reset()\n",
        "    last_obs = observation\n",
        "    f0 = states[observation]\n",
        "    t0 = states[observation]\n",
        "    \n",
        "    for i in range(1000):\n",
        "        # pick an action\n",
        "        action = pick_action(f0, M, rewards, tau, p_rand=p_rand)\n",
        "        # print(\"Action Chosen: \", f0)\n",
        "        \n",
        "        # get where you were in the world:\n",
        "        maximum = np.max(f0)\n",
        "        old_position = np.where(f0 == maximum)[0][0]\n",
        "\n",
        "\n",
        "        # observe new state\n",
        "        observation, reward, done, info = env.step(action)\n",
        "        new_position = observation\n",
        "\n",
        "        # calculates the actual action that was taken based on grid math:\n",
        "        if new_position - old_position == 8: # means you actually moved down 1\n",
        "          actual_action = 1\n",
        "        elif new_position - old_position == -8: # means you actually moved up 1\n",
        "          actual_action = 3\n",
        "        elif new_position - old_position == 1: # means you actually moved right 1\n",
        "          actual_action = 2\n",
        "        elif new_position - old_position == -1: # means you actually moved left 1\n",
        "          actual_action = 0\n",
        "        elif new_position - old_position == 0: # means you went off the grid, either left or up ***** \n",
        "          rand_num = np.random.rand()\n",
        "          if rand_num <= 0.5:\n",
        "            actual_action = 0\n",
        "          else: \n",
        "            actual_action = 3\n",
        "        \n",
        "\n",
        "        # turn the new state into a vector representation\n",
        "        f1 = states[observation]\n",
        "        \n",
        "\n",
        "        # learn via successor representation\n",
        "        # prediction from previous state\n",
        "        p0 = np.dot(M[action], f0)\n",
        "        \n",
        "        # observed outcome, plus discounted future prediction\n",
        "        # when following that policy\n",
        "        f1_action = pick_action(f1, M, rewards, tau, p_rand=p_rand)\n",
        "        \n",
        "\n",
        "        o1 = (f1 + gamma*(np.dot(M[f1_action], f1)))\n",
        "        \n",
        "        # update the association for that action \n",
        "        intended_action = action\n",
        "        actual_action = f1_action\n",
        "\n",
        "        \n",
        "        M[action] += alpha * np.outer((o1 - p0), t0)\n",
        "\n",
        "\n",
        "        # update context (eligibility trace)\n",
        "        t1 = rho*t0 + (1-rho)*f1\n",
        "\n",
        "        # process the reward if any\n",
        "        if done and reward==0:\n",
        "            # get negative rewards for falling in a hole\n",
        "            reward = hole_penalty\n",
        "            \n",
        "        if last_obs == observation:\n",
        "            # action gave rise to no change in movement\n",
        "            reward = off_board_penalty\n",
        "            \n",
        "        # ************  THE CHANGE FROM MERCY ************\n",
        "\n",
        "        # update our representation of rewards/punishments at the observed state \n",
        "        if intended_action == actual_action:\n",
        "          rewards[observation] +=  (alpha*(2 * reward - rewards[observation]))\n",
        "        else: \n",
        "          rewards[observation] +=  (alpha*(reward - rewards[observation]))\n",
        "\n",
        "        # ************  THE CHANGE FROM MERCY ************\n",
        "\n",
        "        # see if we're done\n",
        "        if done:\n",
        "            #print(\"Episode finished after {} timesteps with reward {}\".format(i+1, reward))\n",
        "            # save out our final reward/punishment\n",
        "            scores.append(reward)\n",
        "            break\n",
        "\n",
        "        # prepare for next iteration\n",
        "        f0 = f1\n",
        "        t0 = t1\n",
        "        last_obs = observation\n",
        "\n",
        "# render the final state\n",
        "env.render()\n",
        "\n",
        "# plot a moving average of scores\n",
        "N=50\n",
        "plt.plot(np.convolve(scores, np.ones((N,))/N, mode='valid'))\n",
        "\n",
        "\n",
        "\n",
        "# see predicted outcomes for different actions at a particular state\n",
        "state = 0\n",
        "fig,ax = plt.subplots(1, 4, figsize=(12,5), sharex=True, sharey=True)\n",
        "acts = ['LEFT', 'DOWN', 'RIGHT', 'UP']\n",
        "\n",
        "# get the min and max values for plot normalization\n",
        "pmin = 0.0\n",
        "pmax = 0.0\n",
        "for i in range(n_actions):\n",
        "    pred = np.dot(M, states[state])[i]\n",
        "    pmin = min(pred.min(), pmin)\n",
        "    pmax = max(pred.max(), pmax)\n",
        "\n",
        "# do the plot\n",
        "for i in range(n_actions):\n",
        "    pred = np.dot(M, states[state])[i]\n",
        "    ax[i].matshow((pred.reshape((size, size))), vmin=pmin, vmax=pmax, cmap='hot')\n",
        "    ax[i].set_xlabel(acts[i])\n",
        "\n",
        "# print out model-based predictions for state-actions\n",
        "Q = np.dot(np.dot(M, states[state]), rewards)\n",
        "pQ = np.exp(Q*tau)/np.exp(Q*tau).sum()\n",
        "print(*zip(acts, pQ))\n",
        "\n",
        "# see what state rewards it's learned\n",
        "plt.matshow(rewards.reshape((size, size)), cmap='bwr_r', vmin=-1, vmax=1.0)\n",
        "plt.colorbar()\n",
        "\n",
        "average_reward = np.average(scores)\n",
        "print(\"Average Reward: \", average_reward)\n"
      ],
      "execution_count": null,
      "outputs": [
        {
          "output_type": "stream",
          "text": [
            "  (Up)\n",
            "SFHFFFFH\n",
            "FFFFHFFF\n",
            "FFHFFFFH\n",
            "FFFFFFFF\n",
            "FFFFFHFH\n",
            "FFFFFFFF\n",
            "HFFFFFFF\n",
            "FHFFFFF\u001b[41mG\u001b[0m\n",
            "('LEFT', 0.5219403096515212) ('DOWN', 3.949834988475145e-10) ('RIGHT', 0.47798822348297076) ('UP', 7.14664705245654e-05)\n",
            "Average Reward:  0.853\n"
          ],
          "name": "stdout"
        },
        {
          "output_type": "display_data",
          "data": {
            "image/png": "[encoded data removed]",
            "text/plain": [
              "<Figure size 432x288 with 1 Axes>"
            ]
          },
          "metadata": {
            "tags": [],
            "needs_background": "light"
          }
        },
        {
          "output_type": "display_data",
          "data": {
            "image/png": "[encoded data removed]",
            "text/plain": [
              "<Figure size 864x360 with 4 Axes>"
            ]
          },
          "metadata": {
            "tags": [],
            "needs_background": "light"
          }
        },
        {
          "output_type": "display_data",
          "data": {
            "image/png": "[encoded data removed]",
            "text/plain": [
              "<Figure size 288x288 with 2 Axes>"
            ]
          },
          "metadata": {
            "tags": [],
            "needs_background": "light"
          }
        }
      ]
    },
    {
      "cell_type": "markdown",
      "metadata": {
        "id": "Jfkwlryw2AXU"
      },
      "source": [
        "## Reflection on Experiment 4: The Las Vegas\n",
        "\n",
        "In this case, the trip to Vegas was a successful one!\n",
        "\n",
        "* World Size: **8x8**\n",
        "* Training iterations: **1000**\n",
        "* Ability to Navigate Sucessfully: **YES**\n",
        "* Average Reward: **0.853**\n",
        "* Was able to Learn where holes are: **Yes**\n",
        "* Ability to learn where goal is: **Yes**\n",
        "\n",
        "Final comments: \n",
        "Success! The agent was able to learn how to navigate the world, even with slippery is set to true, over the same training times the other experiments took. Things to note: the way it was implemented was by doubling the reward if the agent ended up where it intended - that is, slippery did not happen. This resulted in the best performance so far, with an avergae reward of 0.853. This experiment also began to learn in earnest the lake at around 150 iterations, which is very good. The holes and goal were learned, as well as nice successsor representations, with the path visible, for almost all directions. The reason this works, though, I am not entriely sure - think it is because the agent seeks the higher reward from having the slippery setting off when it's movements lined up with what it wanted. Almost like a dopamine boost of \"I can't believe how lucky I am\" if a human were to do this. \n",
        "\n",
        "## Overall Verdict: Hugely Successful! Best Performance to date, with a 220.141 % increase from gorund truth and successful navigation!\n"
      ]
    },
    {
      "cell_type": "markdown",
      "metadata": {
        "id": "nJltWB_j36sR"
      },
      "source": [
        "# Part 6:  Final Results and reflection\n",
        "\n",
        "Here is a summary of my findings from the 4 different experiments I ran, displayed below in table form. Important things to note: first, the only agent that was able to solve the slippery problem was the one using the Las Vegas setup, as expained above. It was significanlty better then anything else tested, and actually solved the problem at around 150 trials. The worst was the Lucky Dog, and the other two were in the middle. Problem Solved!\n",
        "\n",
        "\n",
        "\n"
      ]
    },
    {
      "cell_type": "code",
      "metadata": {
        "id": "qNrYEEwY8DrI",
        "colab": {
          "base_uri": "https://localhost:8080/",
          "height": 170
        },
        "outputId": "d6e2d0d6-1daa-4638-b980-67173bdd4fd2"
      },
      "source": [
        "import pandas as pd\n",
        "import numpy as np\n",
        "\n",
        "df = pd.DataFrame()\n",
        "df = pd.concat([df, pd.DataFrame(np.random.randn(4, 4), index=(\"Ground Truth\", \"The Lucky Dog\", \"Mercy\", \"The Las Vegas\"),\n",
        "                                 columns=(\"Able to Navigate?\", \"Average Reward\", \"Learned Holes/Goal?\", \"% Increase from GT\"))], axis=1)\n",
        "df.iloc[0, 0] = \"NO\"\n",
        "df.iloc[1, 0] = \"NO\"\n",
        "df.iloc[2, 0] = \"NO\"\n",
        "df.iloc[3, 0] = \"YES\"\n",
        "\n",
        "df.iloc[0, 1] = -0.71\n",
        "df.iloc[1, 1] = -0.99\n",
        "df.iloc[2, 1] = -0.34\n",
        "df.iloc[3, 1] = 0.85\n",
        "\n",
        "df.iloc[0, 2] = \"YES\"\n",
        "df.iloc[1, 2] = \"YES\"\n",
        "df.iloc[2, 2] = \"YES\"\n",
        "df.iloc[3, 2] = \"YES\"\n",
        "\n",
        "df.iloc[0, 3] = \"N/A\"\n",
        "df.iloc[1, 3] = -28.3\n",
        "df.iloc[2, 3] = 60.8\n",
        "df.iloc[3, 3] = 220.14\n",
        "\n",
        "df"
      ],
      "execution_count": null,
      "outputs": [
        {
          "output_type": "execute_result",
          "data": {
            "text/html": [
              "<div>\n",
              "<style scoped>\n",
              "    .dataframe tbody tr th:only-of-type {\n",
              "        vertical-align: middle;\n",
              "    }\n",
              "\n",
              "    .dataframe tbody tr th {\n",
              "        vertical-align: top;\n",
              "    }\n",
              "\n",
              "    .dataframe thead th {\n",
              "        text-align: right;\n",
              "    }\n",
              "</style>\n",
              "<table border=\"1\" class=\"dataframe\">\n",
              "  <thead>\n",
              "    <tr style=\"text-align: right;\">\n",
              "      <th></th>\n",
              "      <th>Able to Navigate?</th>\n",
              "      <th>Average Reward</th>\n",
              "      <th>Learned Holes/Goal?</th>\n",
              "      <th>% Increase from GT</th>\n",
              "    </tr>\n",
              "  </thead>\n",
              "  <tbody>\n",
              "    <tr>\n",
              "      <th>Ground Truth</th>\n",
              "      <td>NO</td>\n",
              "      <td>-0.71</td>\n",
              "      <td>YES</td>\n",
              "      <td>N/A</td>\n",
              "    </tr>\n",
              "    <tr>\n",
              "      <th>The Lucky Dog</th>\n",
              "      <td>NO</td>\n",
              "      <td>-0.99</td>\n",
              "      <td>YES</td>\n",
              "      <td>-28.3</td>\n",
              "    </tr>\n",
              "    <tr>\n",
              "      <th>Mercy</th>\n",
              "      <td>NO</td>\n",
              "      <td>-0.34</td>\n",
              "      <td>YES</td>\n",
              "      <td>60.8</td>\n",
              "    </tr>\n",
              "    <tr>\n",
              "      <th>The Las Vegas</th>\n",
              "      <td>YES</td>\n",
              "      <td>0.85</td>\n",
              "      <td>YES</td>\n",
              "      <td>220.14</td>\n",
              "    </tr>\n",
              "  </tbody>\n",
              "</table>\n",
              "</div>"
            ],
            "text/plain": [
              "              Able to Navigate?  ...  % Increase from GT\n",
              "Ground Truth                 NO  ...                 N/A\n",
              "The Lucky Dog                NO  ...               -28.3\n",
              "Mercy                        NO  ...                60.8\n",
              "The Las Vegas               YES  ...              220.14\n",
              "\n",
              "[4 rows x 4 columns]"
            ]
          },
          "metadata": {
            "tags": []
          },
          "execution_count": 100
        }
      ]
    },
    {
      "cell_type": "markdown",
      "metadata": {
        "id": "6lrD-rQT_Z0L"
      },
      "source": [
        "## Thanks for a great semester!"
      ]
    }
  ]
}